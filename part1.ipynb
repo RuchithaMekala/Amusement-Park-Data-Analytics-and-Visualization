{
  "cells": [
    {
      "cell_type": "markdown",
      "metadata": {
        "id": "n_tFS_WphsNR"
      },
      "source": [
        "# Assignment 1: Dino Fun World\n",
        "\n",
        "### Assignment Description\n",
        "\n",
        "You, in your role as a data explorer and visualizer, have been asked by the administrators of a small amusement park in your hometown to answer a few questions about their park operations. The dataset that they provided for you to perform the requested analysis includes the movement and communication data captured from the park attendees' apps during one weekend (Friday, Saturday, and Sunday).\n",
        "\n",
        "The administrators would like you to answer four relatively simple questions about the park activities on the day in question. These questions all deal with park operations and can be answered using the data provided.\n",
        "* **Question 1:** What is the most popular attraction to visit in the park?\n",
        "\n",
        "\n",
        "* **Question 2:** What ride (note that not all attractions are rides) has the second longest average visit time?\n",
        "\n",
        "\n",
        "* **Question 3:** Which Fast Food offering has the fewest visitors?\n",
        "\n",
        "\n",
        "* **Question 4:** Compute the Skyline of number of visits and visit time for the park's ride, and report the rides that appear in the Skyline. (Note: Your answer should be three points, which can be given in any order.)\n",
        "\n",
        "\n",
        "### Directions\n",
        "\n",
        "The database provided by the park administration is formatted to be readable by any SQL database library. The course staff recommends the sqlite3 library. The database contains three tables, named 'checkin', 'attractions', and 'sequences'. The database file is named 'dinofunworld.db' .\n",
        "\n",
        "The information contained in each of these tables is listed below:\n",
        "\n",
        "`checkin`:\n",
        "    - The check-in data for all visitors for the day in the park. The data includes two types of check-ins: inferred and actual checkins.\n",
        "    - Fields: visitorID, timestamp, attraction, duration, type\n",
        "\n",
        "`attraction`:\n",
        "    - The attractions in the park by their corresponding AttractionID, Name, Region, Category, and type. Regions are from the VAST Challenge map such as Coaster Alley, Tundra Land, etc. Categories include Thrill rides, Kiddie Rides, etc. Type is broken into Outdoor Coaster, Other Ride, Carousel, etc.\n",
        "    - Fields: AttractionID, Name, Region, Category, type\n",
        "    \n",
        "`sequences`:\n",
        "    - The check-in sequences of visitors. These sequences list the position of each visitor to the park every five minutes. If the visitor has not entered the part yet, the sequence has a value of 0 for that time interval. If the visitor is in the park, the sequence lists the attraction they have most recently checked in to until they check in to a new one or leave the park.\n",
        "    - Fields: visitorID, sequence\n",
        "    \n",
        "Using the provided data, answer the four questions that the administrators have asked.\n",
        "\n",
        "### Submission Directions for Assignment Deliverables\n",
        "\n",
        "This assignment will be auto-graded. We recommend that you submit this assignment. In order for your answers to be correctly registered in the system, you must place the code for your answers in the cell indicated for each question. In addition, you should submit the assignment with the output of the code in the cell's display area. The display area should contain only your answer to the question with no extraneous information, or else the answer may not be picked up correctly. \n",
        "\n",
        "Each cell that is going to be graded has a set of comment lines at the beginning of the cell. These lines are extremely important and must not be modified or removed. \n",
        "\n",
        "Please execute each cell in Jupyter Notebook before submitting.\n",
        "\n",
        "\n"
      ]
    },
    {
      "cell_type": "markdown",
      "metadata": {
        "id": "_JlVCvaLhsNV"
      },
      "source": [
        "### Question 1: \n",
        "What is the most popular attraction to visit in the park?\n",
        "\n",
        "**Note:** Your output should be the name of the attraction."
      ]
    },
    {
      "cell_type": "code",
      "source": [
        "from google.colab import drive\n",
        "drive.mount('/content/drive')"
      ],
      "metadata": {
        "colab": {
          "base_uri": "https://localhost:8080/"
        },
        "id": "t_jmCPboh_L1",
        "outputId": "d5c06218-ecf5-496a-a10f-441d8479f5f8"
      },
      "execution_count": 1,
      "outputs": [
        {
          "output_type": "stream",
          "name": "stdout",
          "text": [
            "Drive already mounted at /content/drive; to attempt to forcibly remount, call drive.mount(\"/content/drive\", force_remount=True).\n"
          ]
        }
      ]
    },
    {
      "cell_type": "code",
      "source": [
        "import math\n",
        "import datetime"
      ],
      "metadata": {
        "id": "k7_RurSpNyqe"
      },
      "execution_count": 2,
      "outputs": []
    },
    {
      "cell_type": "code",
      "source": [
        "import sqlite3\n",
        "data = sqlite3.connect('/content/drive/MyDrive/DV/Assignment-1/dinofunworld.db')\n",
        "db = data.cursor()"
      ],
      "metadata": {
        "id": "22C8I3GFh1vl"
      },
      "execution_count": 3,
      "outputs": []
    },
    {
      "cell_type": "code",
      "execution_count": 4,
      "metadata": {
        "scrolled": false,
        "id": "uEfkeS2dhsNV",
        "colab": {
          "base_uri": "https://localhost:8080/"
        },
        "outputId": "f0f56714-f329-47cf-80e1-fc476dd2cbf6"
      },
      "outputs": [
        {
          "output_type": "stream",
          "name": "stdout",
          "text": [
            "Atmosfear\n"
          ]
        }
      ],
      "source": [
        "# your code here for Q1\n",
        "db.execute(\"Select attraction, count(*) From checkin Group By attraction\")\n",
        "l = db.fetchall()\n",
        "l1 = sorted(l,key = lambda x: x[1], reverse = True)\n",
        "pop_attr_id = str(l1[0][0])\n",
        "db.execute(\"SELECT Name FROM attraction WHERE AttractionID=\"+pop_attr_id+\";\")\n",
        "pop_attraction = db.fetchall()[0][0]\n",
        "print(pop_attraction)"
      ]
    },
    {
      "cell_type": "markdown",
      "metadata": {
        "id": "m_uysK6VhsNW"
      },
      "source": [
        "### Question 2: \n",
        "\n",
        "What ride (note that not all attractions are rides) has the  longest average visit time?\n",
        "\n",
        "**Note:** Your output should be the name of the ride.\n"
      ]
    },
    {
      "cell_type": "code",
      "source": [
        "def transform_time(time):\n",
        "    h, m, s = time.split(':')\n",
        "    t_sec = int(datetime.timedelta(hours=int(h),minutes=int(m),seconds=int(s)).total_seconds())\n",
        "    return t_sec"
      ],
      "metadata": {
        "id": "rYKFGMuSjb9P"
      },
      "execution_count": 5,
      "outputs": []
    },
    {
      "cell_type": "code",
      "execution_count": 6,
      "metadata": {
        "id": "8a3B28IJhsNX",
        "colab": {
          "base_uri": "https://localhost:8080/",
          "height": 35
        },
        "outputId": "e38144b7-b5a7-4214-8acb-9036015c7020"
      },
      "outputs": [
        {
          "output_type": "execute_result",
          "data": {
            "text/plain": [
              "'TerrorSaur'"
            ],
            "application/vnd.google.colaboratory.intrinsic+json": {
              "type": "string"
            }
          },
          "metadata": {},
          "execution_count": 6
        }
      ],
      "source": [
        "# your code here for Q2\n",
        "\n",
        "#Getting the list of only rides\n",
        "db.execute(\"SELECT AttractionID FROM attraction as a where a.category LIKE '%ride%';\")\n",
        "attraction_list = [i[0] for i in db.fetchall()]\n",
        "max_id = 0\n",
        "max_dur = 0\n",
        "for a_id in attraction_list:\n",
        "    db.execute(\"SELECT duration FROM checkin where attraction=\"+str(a_id)+\";\")\n",
        "    duration_list = db.fetchall()\n",
        "    total = 0\n",
        "    for duration in duration_list:\n",
        "        #Had to include try and except since few data is corrupted in the DB\n",
        "        try:\n",
        "            total += transform_time(duration[0])\n",
        "        except:\n",
        "            continue\n",
        "    avg_dur = total /len(duration_list)\n",
        "    if avg_dur > max_dur:\n",
        "        max_dur = avg_dur\n",
        "        max_id = a_id\n",
        "\n",
        "db.execute(\"SELECT name FROM attraction WHERE AttractionID=\"+str(max_id)+\";\")\n",
        "db.fetchall()[0][0]"
      ]
    },
    {
      "cell_type": "markdown",
      "metadata": {
        "id": "mprNio_IhsNX"
      },
      "source": [
        "### Question 3:\n",
        "\n",
        "Which Fast Food offering in the park has the fewest visitors?\n",
        "\n",
        "**Note:** Your output should be the name of the fast food offering."
      ]
    },
    {
      "cell_type": "code",
      "execution_count": 7,
      "metadata": {
        "id": "MQNy8QR9hsNX",
        "colab": {
          "base_uri": "https://localhost:8080/",
          "height": 35
        },
        "outputId": "5568d9fe-dce4-493e-ac09-07ded5cc2452"
      },
      "outputs": [
        {
          "output_type": "execute_result",
          "data": {
            "text/plain": [
              "'Theresaur Food Stop'"
            ],
            "application/vnd.google.colaboratory.intrinsic+json": {
              "type": "string"
            }
          },
          "metadata": {},
          "execution_count": 7
        }
      ],
      "source": [
        "# your code here for Q3\n",
        "db.execute(\"SELECT AttractionID FROM attraction as a where a.category LIKE '%food%';\")\n",
        "attraction_list = [i[0] for i in db.fetchall()]\n",
        "\n",
        "db.execute(\" Select attraction, count(*) From checkin Group By attraction\")\n",
        "freq = db.fetchall() \n",
        "\n",
        "min_id = attraction_list[0]\n",
        "min_val = freq[0][1]\n",
        "for i in attraction_list[1:]:\n",
        "  val = freq[i-1][1]\n",
        "  if val < min_val:\n",
        "    min_val = val\n",
        "    min_id = i-1\n",
        "db.execute(\"Select name from attraction where AttractionID=\"+str(min_id)+\";\")\n",
        "db.fetchall()[0][0]"
      ]
    },
    {
      "cell_type": "markdown",
      "metadata": {
        "id": "cT2eXEZehsNY"
      },
      "source": [
        "### Question 4:\n",
        "\n",
        "Compute the Skyline of number of visits and visit time for the park's ride and report the rides that appear in the Skyline. \n",
        "\n",
        "**Note:** Remember that in this case, higher visits is better and lower visit times are better. Your output should be formatted as a list of names of the rides in the Skyline. Your output should be three points, which can be given in any order(example output : ['Ride 1','Ride 2','Ride 3'] )\n"
      ]
    },
    {
      "cell_type": "code",
      "source": [
        "db.execute(\" Select attraction, count(*) From checkin Group By attraction\")\n",
        "freq = db.fetchall() "
      ],
      "metadata": {
        "id": "m8uYUF9N-kNi"
      },
      "execution_count": 8,
      "outputs": []
    },
    {
      "cell_type": "code",
      "source": [
        "# your code here for Q4\n",
        "\n",
        "#Higher Visits, Lower duration time\n",
        "max_v_id  = 0\n",
        "max_visits = 0\n",
        "min_dur_id = 0\n",
        "min_dur = math.inf\n",
        "max_min_id = 0\n",
        "max_min_visits = 0\n",
        "max_min_dur = math.inf\n",
        "for (a_id, f) in freq:\n",
        "    db.execute(\"SELECT duration FROM checkin where attraction=\"+str(a_id)+\";\")\n",
        "    duration_list = db.fetchall()\n",
        "    total = 0\n",
        "    n = 0\n",
        "    for duration in duration_list:\n",
        "        #Had to include try and except since few data is corrupted in the DB\n",
        "        try:\n",
        "            total += transform_time(duration[0])\n",
        "            n+= 1\n",
        "        except:\n",
        "            if total == 0:\n",
        "              total = math.inf\n",
        "            continue\n",
        "    avg_total = total /len(duration_list)\n",
        "    if f > max_visits:\n",
        "      max_v_id = a_id\n",
        "      max_visits = f\n",
        "    if avg_total < min_dur:\n",
        "      min_dur_id = a_id\n",
        "      min_dur = avg_total\n",
        "    if f > max_min_visits and avg_total < max_min_dur:\n",
        "      max_min_id = a_id\n",
        "      max_min_visits = f\n",
        "      max_min_dur = avg_total"
      ],
      "metadata": {
        "id": "ksCCRkAT-U9t"
      },
      "execution_count": 10,
      "outputs": []
    },
    {
      "cell_type": "code",
      "source": [
        "db.execute(\"SELECT Name FROM attraction WHERE AttractionID=\"+str(max_v_id)+\" OR AttractionID=\"+str(min_dur_id)+\" OR AttractionID=\"+str(max_min_id)+\";\")\n",
        "for i in db.fetchall():\n",
        "  print(i[0])"
      ],
      "metadata": {
        "colab": {
          "base_uri": "https://localhost:8080/"
        },
        "id": "Wq6z32hzFUsn",
        "outputId": "12653a27-70c4-407f-811c-7f774349fc2f"
      },
      "execution_count": 11,
      "outputs": [
        {
          "output_type": "stream",
          "name": "stdout",
          "text": [
            "Wrightiraptor Mountain\n",
            "Atmosfear\n",
            "Dykesadactyl Thrill\n"
          ]
        }
      ]
    }
  ],
  "metadata": {
    "kernelspec": {
      "display_name": "Python 3",
      "language": "python",
      "name": "python3"
    },
    "language_info": {
      "codemirror_mode": {
        "name": "ipython",
        "version": 3
      },
      "file_extension": ".py",
      "mimetype": "text/x-python",
      "name": "python",
      "nbconvert_exporter": "python",
      "pygments_lexer": "ipython3",
      "version": "3.6.5"
    },
    "colab": {
      "provenance": []
    }
  },
  "nbformat": 4,
  "nbformat_minor": 0
}